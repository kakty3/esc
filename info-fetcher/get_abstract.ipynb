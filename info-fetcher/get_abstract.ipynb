{
 "cells": [
  {
   "cell_type": "code",
   "execution_count": 48,
   "metadata": {
    "collapsed": true
   },
   "outputs": [],
   "source": [
    "import urllib\n",
    "import re\n",
    "\n",
    "import requests"
   ]
  },
  {
   "cell_type": "code",
   "execution_count": null,
   "metadata": {
    "collapsed": true
   },
   "outputs": [],
   "source": [
    "def remove_html_tags(text):\n",
    "    return re.sub('<[^<]+?>', '', text)"
   ]
  },
  {
   "cell_type": "code",
   "execution_count": 63,
   "metadata": {
    "collapsed": true
   },
   "outputs": [],
   "source": [
    "pubmed_url = 'https://www.ncbi.nlm.nih.gov/pubmed/?term='\n",
    "pubmed_abstract_regex = re.compile(\"<AbstractText>(.*)<\\/AbstractText>\")"
   ]
  },
  {
   "cell_type": "code",
   "execution_count": 84,
   "metadata": {
    "collapsed": true
   },
   "outputs": [],
   "source": [
    "def get_abstract(query):\n",
    "    request_params = {\n",
    "        'term': query\n",
    "    }\n",
    "    \n",
    "    response = requests.get(url=pubmed_url, params=request_params)\n",
    "    \n",
    "    m = pubmed_abstract_regex.search(response.text)\n",
    "    if m is None:\n",
    "        return None\n",
    "\n",
    "    abstract_dirty = m.groups()[0]\n",
    "    abstract = remove_html_tags(abstract_dirty)\n",
    "    \n",
    "    return abstract"
   ]
  },
  {
   "cell_type": "code",
   "execution_count": 88,
   "metadata": {},
   "outputs": [
    {
     "name": "stdout",
     "output_type": "stream",
     "text": [
      "None\n"
     ]
    }
   ],
   "source": [
    "query = 'Canopy development in grain legumes grown under different soil water regimes in a semi-arid tropical environment'\n",
    "abstract = get_abstract(query)\n",
    "print(abstract)"
   ]
  },
  {
   "cell_type": "code",
   "execution_count": null,
   "metadata": {
    "collapsed": true
   },
   "outputs": [],
   "source": []
  }
 ],
 "metadata": {
  "kernelspec": {
   "display_name": "Python 3",
   "language": "python",
   "name": "python3"
  },
  "language_info": {
   "codemirror_mode": {
    "name": "ipython",
    "version": 3
   },
   "file_extension": ".py",
   "mimetype": "text/x-python",
   "name": "python",
   "nbconvert_exporter": "python",
   "pygments_lexer": "ipython3",
   "version": "3.6.0"
  }
 },
 "nbformat": 4,
 "nbformat_minor": 2
}
