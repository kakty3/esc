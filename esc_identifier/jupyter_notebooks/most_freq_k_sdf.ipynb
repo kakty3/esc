{
 "cells": [
  {
   "cell_type": "code",
   "execution_count": null,
   "metadata": {
    "collapsed": true
   },
   "outputs": [],
   "source": [
    "import collections\n",
    "\n",
    "def MostFreqKHashing(inputString, K):\n",
    "    occuDict = collections.defaultdict(int)\n",
    "    for c in inputString:\n",
    "        occuDict[c] += 1\n",
    "    occuList = sorted(occuDict.items(), key = lambda x: x[1], reverse = True)\n",
    "    outputDict = collections.OrderedDict(occuList[:K])\n",
    "    #Return OrdredDict instead of string for faster lookup.\n",
    "    return outputDict \n",
    " \n",
    "def MostFreqKSimilarity(inputStr1, inputStr2):\n",
    "    similarity = 0\n",
    "    for c, cnt1 in inputStr1.items():\n",
    "        #Reduce the time complexity of lookup operation to about O(1).\n",
    "        if c in inputStr2: \n",
    "            cnt2 = inputStr2[c]\n",
    "            similarity += 1\n",
    "    return similarity\n",
    " \n",
    "def MostFreqKSDF(inputStr1, inputStr2, K):\n",
    "#     print(MostFreqKHashing(inputStr1,K))\n",
    "#     print(MostFreqKHashing(inputStr2,K))\n",
    "    return MostFreqKSimilarity(MostFreqKHashing(inputStr1,K), MostFreqKHashing(inputStr2,K))\n",
    "\n",
    "def most_freq_k_sdf_normalized(s1, s2):\n",
    "    return 1 - MostFreqKSDF(s1, s2, K=100) / min(len(s1), len(s2))\n",
    "\n",
    "s1 = 'sergey b demuri'\n",
    "s2 = 'sergey brown dmurin'\n",
    "# scipy.stats.hmean([len(s1), len(s2)])\n",
    "# s1 = 'a'\n",
    "# s2 = 'b'\n",
    "MostFreqKSDF(s1, s2, K=100)\n",
    "print(most_freq_k_sdf_normalized(s1, s2))\n",
    "print(token_set_distance(s1, s2))"
   ]
  }
 ],
 "metadata": {
  "kernelspec": {
   "display_name": "Python 3",
   "language": "python",
   "name": "python3"
  },
  "language_info": {
   "codemirror_mode": {
    "name": "ipython",
    "version": 3
   },
   "file_extension": ".py",
   "mimetype": "text/x-python",
   "name": "python",
   "nbconvert_exporter": "python",
   "pygments_lexer": "ipython3",
   "version": "3.6.0"
  }
 },
 "nbformat": 4,
 "nbformat_minor": 2
}
