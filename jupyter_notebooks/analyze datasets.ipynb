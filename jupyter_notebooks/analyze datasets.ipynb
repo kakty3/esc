{
 "cells": [
  {
   "cell_type": "code",
   "execution_count": 4,
   "metadata": {
    "collapsed": true
   },
   "outputs": [],
   "source": [
    "from pymongo import MongoClient"
   ]
  },
  {
   "cell_type": "code",
   "execution_count": 16,
   "metadata": {
    "collapsed": true
   },
   "outputs": [],
   "source": [
    "MONGO_URI = 'mongodb://localhost:27017/'\n",
    "\n",
    "mongo_client = MongoClient(MONGO_URI)\n",
    "kdd_db = mongo_client.kdd2013\n",
    "author_raw_collection = kdd_db.author_raw\n",
    "author_collection = kdd_db.author"
   ]
  },
  {
   "cell_type": "code",
   "execution_count": 21,
   "metadata": {
    "collapsed": true
   },
   "outputs": [],
   "source": [
    "author_raw_cached = list(author_raw_collection.find())\n",
    "author_cached = list(author_collection.find())"
   ]
  },
  {
   "cell_type": "code",
   "execution_count": 32,
   "metadata": {},
   "outputs": [
    {
     "data": {
      "text/plain": [
       "3567"
      ]
     },
     "execution_count": 32,
     "metadata": {},
     "output_type": "execute_result"
    }
   ],
   "source": [
    "len(list(filter(lambda author: author['affiliations'], author_cached)))"
   ]
  },
  {
   "cell_type": "code",
   "execution_count": 25,
   "metadata": {},
   "outputs": [
    {
     "name": "stdout",
     "output_type": "stream",
     "text": [
      "RAW\n",
      "authors: 3739\n",
      "names: 13283\n",
      "affiliations: 31625\n"
     ]
    }
   ],
   "source": [
    "print('RAW')\n",
    "print(f'authors: {len(author_raw_cached)}')\n",
    "\n",
    "n_names = sum([len(author['names']) for author in author_raw_cached])\n",
    "print(f'names: {n_names}')\n",
    "\n",
    "n_affiliations = sum([len(author['affiliations']) for author in author_raw_cached])\n",
    "print(f'affiliations: {n_affiliations}')"
   ]
  },
  {
   "cell_type": "code",
   "execution_count": 24,
   "metadata": {},
   "outputs": [
    {
     "name": "stdout",
     "output_type": "stream",
     "text": [
      "Normalized\n",
      "authors: 3567\n",
      "names: 10665\n",
      "affiliations: 22818\n"
     ]
    }
   ],
   "source": [
    "print('Normalized')\n",
    "print(f'authors: {len(author_cached)}')\n",
    "\n",
    "n_names = sum([len(author['names']) for author in author_cached])\n",
    "print(f'names: {n_names}')\n",
    "\n",
    "n_affiliations = sum([len(author['affiliations']) for author in author_cached])\n",
    "print(f'affiliations: {n_affiliations}')"
   ]
  },
  {
   "cell_type": "code",
   "execution_count": null,
   "metadata": {
    "collapsed": true
   },
   "outputs": [],
   "source": []
  }
 ],
 "metadata": {
  "kernelspec": {
   "display_name": "Python 3",
   "language": "python",
   "name": "python3"
  },
  "language_info": {
   "codemirror_mode": {
    "name": "ipython",
    "version": 3
   },
   "file_extension": ".py",
   "mimetype": "text/x-python",
   "name": "python",
   "nbconvert_exporter": "python",
   "pygments_lexer": "ipython3",
   "version": "3.6.0"
  }
 },
 "nbformat": 4,
 "nbformat_minor": 2
}
