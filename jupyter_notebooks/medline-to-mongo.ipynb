{
 "cells": [
  {
   "cell_type": "code",
   "execution_count": 3,
   "metadata": {
    "collapsed": true
   },
   "outputs": [],
   "source": [
    "import logging.config\n",
    "import itertools\n",
    "import time\n",
    "import json\n",
    "import pprint\n",
    "import textwrap\n",
    "\n",
    "from Bio import Medline\n",
    "from pymongo import MongoClient\n",
    "from python_utils.data_access import check_connection as pg_check_connection\n",
    "import sqlalchemy as sa\n",
    "from sqlalchemy.exc import StatementError\n",
    "from sqlalchemy import create_engine\n",
    "from sqlalchemy.orm import sessionmaker\n",
    "from sqlalchemy_utils import database_exists, create_database\n",
    "\n",
    "from esc_identifier.database.models import Base, Record"
   ]
  },
  {
   "cell_type": "code",
   "execution_count": 2,
   "metadata": {
    "collapsed": true
   },
   "outputs": [],
   "source": [
    "%load_ext autoreload\n",
    "%autoreload 2"
   ]
  },
  {
   "cell_type": "code",
   "execution_count": 3,
   "metadata": {
    "collapsed": true
   },
   "outputs": [],
   "source": [
    "logger = logging.getLogger(__name__)\n",
    "logging.basicConfig(level=logging.DEBUG)"
   ]
  },
  {
   "cell_type": "code",
   "execution_count": 4,
   "metadata": {},
   "outputs": [],
   "source": [
    "MONGO_URI = 'mongodb://localhost:27017/pubmed'\n",
    "\n",
    "mongo_client = MongoClient(MONGO_URI)\n",
    "db = mongo_client.pubmed\n",
    "record_collection = db.record_collection"
   ]
  },
  {
   "cell_type": "code",
   "execution_count": null,
   "metadata": {
    "collapsed": true
   },
   "outputs": [],
   "source": [
    "medline_filename = '/Users/kakty3/development/projects/esc/data/pubmed_mirna_results.txt'"
   ]
  },
  {
   "cell_type": "code",
   "execution_count": 6,
   "metadata": {},
   "outputs": [
    {
     "name": "stdout",
     "output_type": "stream",
     "text": [
      "{'AB': 'BACKGROUND Denervation-induced skeletal muscle atrophy results in '\n",
      "       'significant biochemical and physiological changes potentially leading '\n",
      "       'to devastating outcomes including increased mortality. Effective '\n",
      "       'treatments for skeletal muscle diseases are currently not available. '\n",
      "       'Muscle-specific miRNAs, such as miR-206, play an important role in the '\n",
      "       'regulation of muscle regeneration. The aim of the present study was to '\n",
      "       'examine the beneficial effects of miR-206 treatment during the early '\n",
      "       'changes in skeletal muscle atrophy, and to study the underlying '\n",
      "       'signaling pathways in a rat skeletal muscle atrophy model. MATERIAL '\n",
      "       'AND METHODS The rat denervation-induced skeletal muscle atrophy model '\n",
      "       'was established. miRNA-206 was overexpressed with or without TGF-beta1 '\n",
      "       'inhibitor in the rats. The mRNA and protein expression of HDAC4, '\n",
      "       'TGF-beta1, and Smad3 was determined by real-time PCR and western blot. '\n",
      "       'The gastrocnemius muscle cross-sectional area and relative muscle mass '\n",
      "       'were measured. MyoD1, TGF-beta1, and Pax7 were determined by '\n",
      "       'immunohistochemical staining. RESULTS After sciatic nerve surgical '\n",
      "       'transection, basic muscle characteristics, such as relative muscle '\n",
      "       'weight, deteriorated continuously during a 2-week period. Injection of '\n",
      "       'miR-206 (30 mug/rat) attenuated morphological and physiological '\n",
      "       'deterioration of muscle characteristics, prevented fibrosis '\n",
      "       'effectively, and inhibited the expression of TGF-beta1 and HDAC4 as '\n",
      "       'assessed 2 weeks after denervation. Moreover, miR-206 treatment '\n",
      "       'increased the number of differentiating (MyoD1+/Pax7+) satellite '\n",
      "       'cells, thereby protecting denervated muscles from atrophy. '\n",
      "       'Interestingly, the ability of miR-206 to govern HDAC4 expression and '\n",
      "       'to attenuate muscle atrophy was weakened after pharmacological '\n",
      "       'blockage of the TGF-b1/Smad3 axis. CONCLUSIONS TGF-beta1/Smad3 '\n",
      "       'signaling pathway is one of the crucial signaling pathways by which '\n",
      "       'miR-206 counteracts skeletal muscle atrophy by affecting proliferation '\n",
      "       'and differentiation of satellite cells. miR-206 may be a potential '\n",
      "       'target for development of a new strategy for treatment of patients '\n",
      "       'with early denervation-induced skeletal muscle atrophy.',\n",
      " 'AD': ['Department of Orthopedics, The Second Affiliated Hospital of Shanxi '\n",
      "        'Medical University, Taiyuan, Shanxi, China (mainland).',\n",
      "        'Department of Orthopedics, The Second Affiliated Hospital of Shanxi '\n",
      "        'Medical University, Taiyuan, Shanxi, China (mainland).',\n",
      "        'Division of Cardiovascular Disease, Department of Gerontology, '\n",
      "        'Hospital of University of Electronic Science and Technology of China '\n",
      "        \"and Sichuan Provincial People's Hospital, Chengdu, Sichuan, China \"\n",
      "        '(mainland).',\n",
      "        'Department of Orthopedics, The Second Affiliated Hospital of Shanxi '\n",
      "        'Medical University, Taiyuan, Shanxi, China (mainland).',\n",
      "        'Department of Orthopedics, The Second Affiliated Hospital of Shanxi '\n",
      "        'Medical University, Taiyuan, Shanxi, China (mainland).',\n",
      "        'Department of Orthopedics, The Second Affiliated Hospital of Shanxi '\n",
      "        'Medical University, Taiyuan, Shanxi, China (mainland).',\n",
      "        'Department of Orthopedics, The Second Affiliated Hospital of Shanxi '\n",
      "        'Medical University, Taiyuan, Shanxi, China (mainland).',\n",
      "        'Department of Orthopaedics, The Second Affiliated Hospital of Shanxi '\n",
      "        'Medical University, Taiyuan, Shanxi, China (mainland).'],\n",
      " 'AID': ['897909 [pii]'],\n",
      " 'AU': ['Huang QK',\n",
      "        'Qiao HY',\n",
      "        'Fu MH',\n",
      "        'Li G',\n",
      "        'Li WB',\n",
      "        'Chen Z',\n",
      "        'Wei J',\n",
      "        'Liang BS'],\n",
      " 'CRDT': ['2016/04/08 06:00'],\n",
      " 'DA': '20160407',\n",
      " 'DEP': '20160407',\n",
      " 'DP': '2016',\n",
      " 'EDAT': '2016/04/08 06:00',\n",
      " 'FAU': ['Huang, Qiang Kai',\n",
      "         'Qiao, Hu-Yuan',\n",
      "         'Fu, Ming-Huan',\n",
      "         'Li, Gang',\n",
      "         'Li, Wen-Bin',\n",
      "         'Chen, Zhi',\n",
      "         'Wei, Jian',\n",
      "         'Liang, Bing-Sheng'],\n",
      " 'IS': '1643-3750 (Electronic) 1234-1010 (Linking)',\n",
      " 'JID': '9609063',\n",
      " 'JT': 'Medical science monitor : international medical journal of '\n",
      "       'experimental and clinical research',\n",
      " 'LA': ['ENG'],\n",
      " 'LR': '20160408',\n",
      " 'MHDA': '2016/04/08 06:00',\n",
      " 'OWN': 'NLM',\n",
      " 'PG': '1161-1170',\n",
      " 'PMID': '27054781',\n",
      " 'PST': 'epublish',\n",
      " 'PT': ['JOURNAL ARTICLE'],\n",
      " 'SO': 'Med Sci Monit. 2016 Apr 7;22:1161-1170.',\n",
      " 'STAT': 'Publisher',\n",
      " 'TA': 'Med Sci Monit',\n",
      " 'TI': 'MiR-206 Attenuates Denervation-Induced Skeletal Muscle Atrophy in Rats '\n",
      "       'Through Regulation of Satellite Cell Differentiation via TGF-beta1, '\n",
      "       'Smad3, and HDAC4 Signaling.',\n",
      " 'VI': '22'}\n"
     ]
    }
   ],
   "source": [
    "with open(medline_filename) as medline_file:\n",
    "    medline_records = Medline.parse(medline_file)\n",
    "    \n",
    "    for r in itertools.islice(medline_records, 1):\n",
    "        pprint.pprint(r)"
   ]
  }
 ],
 "metadata": {
  "kernelspec": {
   "display_name": "Python 3",
   "language": "python",
   "name": "python3"
  },
  "language_info": {
   "codemirror_mode": {
    "name": "ipython",
    "version": 3
   },
   "file_extension": ".py",
   "mimetype": "text/x-python",
   "name": "python",
   "nbconvert_exporter": "python",
   "pygments_lexer": "ipython3",
   "version": "3.6.0"
  }
 },
 "nbformat": 4,
 "nbformat_minor": 2
}
